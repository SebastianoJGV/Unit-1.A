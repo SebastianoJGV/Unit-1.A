{
  "nbformat": 4,
  "nbformat_minor": 0,
  "metadata": {
    "colab": {
      "name": "Untitled0.ipynb",
      "provenance": [],
      "toc_visible": true,
      "authorship_tag": "ABX9TyNt1/eO+btgxSXNBRgBfgcQ",
      "include_colab_link": true
    },
    "kernelspec": {
      "name": "python3",
      "display_name": "Python 3"
    },
    "language_info": {
      "name": "python"
    }
  },
  "cells": [
    {
      "cell_type": "markdown",
      "metadata": {
        "id": "view-in-github",
        "colab_type": "text"
      },
      "source": [
        "<a href=\"https://colab.research.google.com/github/SebastianoJGV/Unit-1.A/blob/main/ProgramPractise1.ipynb\" target=\"_parent\"><img src=\"https://colab.research.google.com/assets/colab-badge.svg\" alt=\"Open In Colab\"/></a>"
      ]
    },
    {
      "cell_type": "code",
      "metadata": {
        "id": "79FZNVgpGOUa"
      },
      "source": [
        "# G11 Computer Sciences\n"
      ],
      "execution_count": null,
      "outputs": []
    },
    {
      "cell_type": "markdown",
      "metadata": {
        "id": "gJpQ6PX5GUHo"
      },
      "source": [
        "# Programming Practise #1\n",
        "\n",
        "Write a program calculating the addition of all integer numbers from 0-2021"
      ]
    },
    {
      "cell_type": "code",
      "metadata": {
        "id": "7jkrbt7JHJDh"
      },
      "source": [
        "n=int(input(\"Enter A integer larger than 0: \"))\n",
        "sum=0\n",
        "for num in range (1, n + 1, 1):\n",
        "  sum = sum + num\n",
        "\n",
        "print (\"Sum of 1 -\",n, \"numbers is\", sum)"
      ],
      "execution_count": null,
      "outputs": []
    },
    {
      "cell_type": "markdown",
      "metadata": {
        "id": "3nN8O6oJI1Z1"
      },
      "source": [
        "Write a program that caluculates the value of Y when the user enters a integer x:\n",
        "Y=2*(x+3)-3"
      ]
    },
    {
      "cell_type": "code",
      "metadata": {
        "colab": {
          "base_uri": "https://localhost:8080/"
        },
        "id": "Ndzd3mQ4JCsP",
        "outputId": "efe6f79c-161d-4144-8857-99c3c5a874a2"
      },
      "source": [
        "n=int(input(\"Enter a integer x larger than 0: \"))\n",
        "y=0\n",
        "y = 2*(n+3)-3\n",
        "print (y, \"= 2*(x+3)-3\")"
      ],
      "execution_count": null,
      "outputs": [
        {
          "output_type": "stream",
          "text": [
            "Enter a integer x larger than 0: 2\n",
            "7 = 2*(x+3)-3\n"
          ],
          "name": "stdout"
        }
      ]
    },
    {
      "cell_type": "markdown",
      "metadata": {
        "id": "qhSPXKgHK2y5"
      },
      "source": [
        "Write a program that takes the users name and grade, and then outputs his email address at UWC ISAK\n"
      ]
    },
    {
      "cell_type": "code",
      "metadata": {
        "colab": {
          "base_uri": "https://localhost:8080/"
        },
        "id": "8VgatRLrLGfP",
        "outputId": "c3149ec4-0a2d-4ae4-f67a-4db315bf3343"
      },
      "source": [
        "grade=int(input(\"Enter your grade as a number, eg. 10, 11, or 12: \"))\n",
        "first=input(\"Enter your First Name: \")\n",
        "last=input(\"Enter your last name: \")\n",
        "if grade==10:\n",
        "  print(f\"2024.{first}.{last}@uwcisak.jp\")\n",
        "elif grade==11:\n",
        "  print(f\"2023.{first}.{last}@uwcisak.jp\")\n",
        "else:\n",
        "  print(f\"2022.{first}.{last}@uwcisak.jp\")\n"
      ],
      "execution_count": null,
      "outputs": [
        {
          "output_type": "stream",
          "text": [
            "Enter your grade as a number, eg. 10, 11, or 12: 11\n",
            "Enter your First Name: Sebastiano\n",
            "Enter your last name: Giannelli\n",
            "2023.Sebastiano.Giannelli@uwcisak.jp\n"
          ],
          "name": "stdout"
        }
      ]
    },
    {
      "cell_type": "markdown",
      "metadata": {
        "id": "n3YA1E4yQYmK"
      },
      "source": [
        "Convert Fahrenheit To Celcius"
      ]
    },
    {
      "cell_type": "code",
      "metadata": {
        "colab": {
          "base_uri": "https://localhost:8080/"
        },
        "id": "nDTsqUV_QcB6",
        "outputId": "2912a839-cc32-40aa-f126-935b04dbb609"
      },
      "source": [
        "f=int(input(\"Enter a integer for the temperature in fahrenheit: \"))\n",
        "n=0\n",
        "n=(f-32)*5/9\n",
        "print(f\"{f} Fahrenheit is equal to {n} Celcius\")"
      ],
      "execution_count": null,
      "outputs": [
        {
          "output_type": "stream",
          "text": [
            "Enter a integer for the temperature in fahrenheit: 32\n",
            "32 Fahrenheit is equal to 0.0 Celcius\n"
          ],
          "name": "stdout"
        }
      ]
    },
    {
      "cell_type": "markdown",
      "metadata": {
        "id": "-fRdCPk7RCv3"
      },
      "source": [
        "Convert Miles to Kilometres"
      ]
    },
    {
      "cell_type": "code",
      "metadata": {
        "colab": {
          "base_uri": "https://localhost:8080/"
        },
        "id": "v2O56kRTREtj",
        "outputId": "1ceba3dd-8cc0-4541-f366-976ab6055bc4"
      },
      "source": [
        "f=int(input(\"Enter a integer for the distance in miles: \"))\n",
        "n=0\n",
        "n=f*1.60934\n",
        "print(f\"{f} Miles is equal to {n} Kilometres\")"
      ],
      "execution_count": null,
      "outputs": [
        {
          "output_type": "stream",
          "text": [
            "Enter a integer for the distance in miles: 1\n",
            "1 Miles is equal to 1.60934 Kilometres\n"
          ],
          "name": "stdout"
        }
      ]
    },
    {
      "cell_type": "markdown",
      "metadata": {
        "id": "M19bKSEXRUWn"
      },
      "source": [
        "Write a program that solves the Quadratic equation given three variables\n",
        "todo: rewrite for x in a way that we can work with"
      ]
    },
    {
      "cell_type": "code",
      "metadata": {
        "id": "CzXf7N3GRYjj"
      },
      "source": [
        "a=int(input(\"Enter variable A: \"))\n",
        "b=int(input(\"Enter variable B: \"))\n",
        "c=int(input(\"Enter variable C: \"))\n",
        "n=0\n",
        "n=(-b)"
      ],
      "execution_count": null,
      "outputs": []
    },
    {
      "cell_type": "markdown",
      "metadata": {
        "id": "29xU7I0xyS8i"
      },
      "source": [
        "Write a program to reverse a number\n",
        "todo: why tf does it return 0 every time"
      ]
    },
    {
      "cell_type": "code",
      "metadata": {
        "colab": {
          "base_uri": "https://localhost:8080/"
        },
        "id": "4lvYrg-XyVIE",
        "outputId": "101401be-96f8-4141-8f2a-474a742f8de9"
      },
      "source": [
        "def reverse(n):\n",
        "  rem=0\n",
        "  while(n>0):\n",
        "    print(\"Calculating\")\n",
        "    print(n)\n",
        "    d=n%10\n",
        "    n=int (n/10)\n",
        "    rem=rem*10+d\n",
        "    print(rem)\n",
        "  return rem\n",
        "x=int(input(\"Enter a number: \"))\n",
        "r=reverse(x)\n",
        "print(\"number: \", x)\n",
        "print(\"Reverse: \", r)"
      ],
      "execution_count": 11,
      "outputs": [
        {
          "output_type": "stream",
          "text": [
            "Enter a number: 123\n",
            "Calculating\n",
            "123\n",
            "3\n",
            "Calculating\n",
            "12\n",
            "32\n",
            "Calculating\n",
            "1\n",
            "321\n",
            "number:  123\n",
            "Reverse:  321\n"
          ],
          "name": "stdout"
        }
      ]
    },
    {
      "cell_type": "markdown",
      "metadata": {
        "id": "jA2bTSbLESBk"
      },
      "source": [
        "Write a program that asks the user for their name, age, nationality and produces a greeting message such as “Welcome John Doe you are 30 years old and a national of Colombia”"
      ]
    },
    {
      "cell_type": "code",
      "metadata": {
        "colab": {
          "base_uri": "https://localhost:8080/"
        },
        "id": "ZfHmH_AXEbQY",
        "outputId": "751c4b42-29d7-4276-d5c1-bc6fe843c2bf"
      },
      "source": [
        "name=input(\"Enter your name: \")\n",
        "age=input(\"Enter your Age: \")\n",
        "g=input(\"Enter you're country of origin: \")\n",
        "print(f\"Welcome {name}, you are {age} years old and a national of {g}.\")"
      ],
      "execution_count": null,
      "outputs": [
        {
          "output_type": "stream",
          "text": [
            "Enter your name: Sebastiano\n",
            "Enter your Age16\n",
            "Enter youre nationality: canada\n",
            "Welcome Sebastiano, you are 16 years old and a national of canada.\n"
          ],
          "name": "stdout"
        }
      ]
    },
    {
      "cell_type": "markdown",
      "metadata": {
        "id": "ASQ_HSPpFbhD"
      },
      "source": [
        "Create a program that converts from one unit to another"
      ]
    },
    {
      "cell_type": "code",
      "metadata": {
        "colab": {
          "base_uri": "https://localhost:8080/"
        },
        "id": "ZozCn9F8FeO7",
        "outputId": "16596c15-5303-4d82-b9c8-ee8e513e90f7"
      },
      "source": [
        "inun=input(\"Enter the original unit, enter J for joules, and W for watt hours: \")\n",
        "jw=int(input(\"How many watts or joules? \"))\n",
        "if inun == \"J\":\n",
        "  n=jw%3600\n",
        "elif inun == \"W\":\n",
        "  n=jw*3600\n",
        "print(f\"{jw}{inun} is equal to {n}\")\n"
      ],
      "execution_count": null,
      "outputs": [
        {
          "output_type": "stream",
          "text": [
            "Enter the original unit, enter J for joules, and W for watt hours: J\n",
            "How many watts or joules? 1\n",
            "1J is equal to 3600\n"
          ],
          "name": "stdout"
        }
      ]
    }
  ]
}