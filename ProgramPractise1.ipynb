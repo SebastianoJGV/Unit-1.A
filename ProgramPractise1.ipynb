{
  "nbformat": 4,
  "nbformat_minor": 0,
  "metadata": {
    "colab": {
      "name": "Untitled0.ipynb",
      "provenance": [],
      "toc_visible": true,
      "authorship_tag": "ABX9TyNDZGxpNlwQXg+v3NTPFO7A",
      "include_colab_link": true
    },
    "kernelspec": {
      "name": "python3",
      "display_name": "Python 3"
    },
    "language_info": {
      "name": "python"
    }
  },
  "cells": [
    {
      "cell_type": "markdown",
      "metadata": {
        "id": "view-in-github",
        "colab_type": "text"
      },
      "source": [
        "<a href=\"https://colab.research.google.com/github/SebastianoJGV/Unit-1.A/blob/main/ProgramPractise1.ipynb\" target=\"_parent\"><img src=\"https://colab.research.google.com/assets/colab-badge.svg\" alt=\"Open In Colab\"/></a>"
      ]
    },
    {
      "cell_type": "code",
      "metadata": {
        "id": "79FZNVgpGOUa"
      },
      "source": [
        "# G11 Computer Sciences\n"
      ],
      "execution_count": null,
      "outputs": []
    },
    {
      "cell_type": "markdown",
      "metadata": {
        "id": "gJpQ6PX5GUHo"
      },
      "source": [
        "# Programming Practise #1\n",
        "\n",
        "Write a program calculating the addition of all integer numbers from 0-2021"
      ]
    },
    {
      "cell_type": "code",
      "metadata": {
        "id": "7jkrbt7JHJDh"
      },
      "source": [
        "n=int(input(\"Enter A integer larger than 0: \"))\n",
        "sum=0\n",
        "for num in range (1, n + 1, 1):\n",
        "  sum = sum + num\n",
        "\n",
        "print (\"Sum of 1 -\",n, \"numbers is\", sum)"
      ],
      "execution_count": null,
      "outputs": []
    },
    {
      "cell_type": "markdown",
      "metadata": {
        "id": "3nN8O6oJI1Z1"
      },
      "source": [
        "Write a program that caluculates the value of Y when the user enters a integer x:\n",
        "Y=2*(x+3)-3"
      ]
    },
    {
      "cell_type": "code",
      "metadata": {
        "colab": {
          "base_uri": "https://localhost:8080/"
        },
        "id": "Ndzd3mQ4JCsP",
        "outputId": "efe6f79c-161d-4144-8857-99c3c5a874a2"
      },
      "source": [
        "n=int(input(\"Enter a integer x larger than 0: \"))\n",
        "y=0\n",
        "y = 2*(n+3)-3\n",
        "print (y, \"= 2*(x+3)-3\")"
      ],
      "execution_count": 1,
      "outputs": [
        {
          "output_type": "stream",
          "text": [
            "Enter a integer x larger than 0: 2\n",
            "7 = 2*(x+3)-3\n"
          ],
          "name": "stdout"
        }
      ]
    },
    {
      "cell_type": "markdown",
      "metadata": {
        "id": "qhSPXKgHK2y5"
      },
      "source": [
        "Write a program that takes the users name and grade, and then outputs his email address at UWC ISAK\n"
      ]
    },
    {
      "cell_type": "code",
      "metadata": {
        "colab": {
          "base_uri": "https://localhost:8080/"
        },
        "id": "8VgatRLrLGfP",
        "outputId": "c3149ec4-0a2d-4ae4-f67a-4db315bf3343"
      },
      "source": [
        "grade=int(input(\"Enter your grade as a number, eg. 10, 11, or 12: \"))\n",
        "first=input(\"Enter your First Name: \")\n",
        "last=input(\"Enter your last name: \")\n",
        "if grade==10:\n",
        "  print(f\"2024.{first}.{last}@uwcisak.jp\")\n",
        "elif grade==11:\n",
        "  print(f\"2023.{first}.{last}@uwcisak.jp\")\n",
        "else:\n",
        "  print(f\"2022.{first}.{last}@uwcisak.jp\")\n"
      ],
      "execution_count": 1,
      "outputs": [
        {
          "output_type": "stream",
          "text": [
            "Enter your grade as a number, eg. 10, 11, or 12: 11\n",
            "Enter your First Name: Sebastiano\n",
            "Enter your last name: Giannelli\n",
            "2023.Sebastiano.Giannelli@uwcisak.jp\n"
          ],
          "name": "stdout"
        }
      ]
    }
  ]
}